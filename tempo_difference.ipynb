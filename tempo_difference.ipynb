{
 "cells": [
  {
   "cell_type": "code",
   "execution_count": 23,
   "metadata": {},
   "outputs": [],
   "source": [
    "#导入所需要的库\n",
    "import librosa\n",
    "import numpy as np\n",
    "import os"
   ]
  },
  {
   "cell_type": "code",
   "execution_count": 24,
   "metadata": {},
   "outputs": [],
   "source": [
    "'''\n",
    "定义一个tempo_difference函数\n",
    "输入：输入文件的绝对路径，真实的速度\n",
    "输出：打印绝对路径和对应的该wav文件与real_tempo的差值\n",
    "'''\n",
    "\n",
    "def tempo_difference(input_file, real_tempo):\n",
    "    y,sr = librosa.load(input_file, sr = 44100)\n",
    "    tempo, beat_frames = librosa.beat.beat_track(y=y, sr=sr)\n",
    "    tempo_difference = abs(real_tempo - tempo)\n",
    "    print(input_file, \":\", tempo_difference)"
   ]
  },
  {
   "cell_type": "code",
   "execution_count": 25,
   "metadata": {},
   "outputs": [
    {
     "name": "stdout",
     "output_type": "stream",
     "text": [
      "C:/Users/58450/My Code/Tempo_Difference/wav_dir\\32分+chord+drum_后处理完成.wav : 0.27920081967212695\n",
      "C:/Users/58450/My Code/Tempo_Difference/wav_dir\\96分+chord+drum_未后处理.wav : 27.347146739130437\n",
      "C:/Users/58450/My Code/Tempo_Difference/wav_dir\\MIDI0_wav.wav : 35.185319767441854\n",
      "C:/Users/58450/My Code/Tempo_Difference/wav_dir\\测试.wav : 35.185319767441854\n"
     ]
    }
   ],
   "source": [
    "#定义输入文件夹，批处理文件\n",
    "input_dir = 'C:/Users/58450/My Code/Tempo_Difference/wav_dir'\n",
    "\n",
    "for file in os.listdir(input_dir):\n",
    "    input_file = os.path.join(input_dir, file)\n",
    "    tempo_difference(input_file, 85)#85为real_tempo"
   ]
  }
 ],
 "metadata": {
  "kernelspec": {
   "display_name": "Python 3",
   "language": "python",
   "name": "python3"
  },
  "language_info": {
   "codemirror_mode": {
    "name": "ipython",
    "version": 3
   },
   "file_extension": ".py",
   "mimetype": "text/x-python",
   "name": "python",
   "nbconvert_exporter": "python",
   "pygments_lexer": "ipython3",
   "version": "3.7.1"
  }
 },
 "nbformat": 4,
 "nbformat_minor": 2
}
